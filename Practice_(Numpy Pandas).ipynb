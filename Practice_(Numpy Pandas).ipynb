{
 "cells": [
  {
   "cell_type": "markdown",
   "id": "dbebb8ce",
   "metadata": {},
   "source": [
    "Q.1 Create the NumPy array with values (1,2,3).\n",
    "Create a second Numpy array with values (4,5,6).\n",
    "Perform simple arithmetic operations on these two Numpy arrays:\n",
    "a. Addition\n",
    "b. Subtraction\n",
    "c. Multiplication\n",
    "d. Division"
   ]
  },
  {
   "cell_type": "code",
   "execution_count": 6,
   "id": "8eae32b9",
   "metadata": {},
   "outputs": [
    {
     "name": "stdout",
     "output_type": "stream",
     "text": [
      "Addition =\n",
      "[5 7 9]\n",
      "\n",
      "Subtraction =\n",
      "[-3 -3 -3]\n",
      "\n",
      "Multiplication =\n",
      "[ 4 10 18]\n",
      "\n",
      "Division =\n",
      "[0.25 0.4  0.5 ]\n"
     ]
    }
   ],
   "source": [
    "import numpy as np\n",
    "\n",
    "array1 = np.array([1, 2, 3])\n",
    "array2 = np.array([4, 5, 6])\n",
    "\n",
    "#Addition\n",
    "addition = array1 + array2\n",
    "print(\"Addition =\")\n",
    "print(addition)\n",
    "\n",
    "# Subtraction\n",
    "subtraction = array1 - array2\n",
    "print(\"\\nSubtraction =\")\n",
    "print(subtraction)\n",
    "\n",
    "# Multiplication\n",
    "multiplication = array1 * array2\n",
    "print(\"\\nMultiplication =\")\n",
    "print(multiplication)\n",
    "\n",
    "# Division \n",
    "division = array1 / array2\n",
    "print(\"\\nDivision =\")\n",
    "print(division)\n"
   ]
  },
  {
   "cell_type": "code",
   "execution_count": null,
   "id": "1bf631af",
   "metadata": {},
   "outputs": [],
   "source": []
  },
  {
   "cell_type": "markdown",
   "id": "db5528e8",
   "metadata": {},
   "source": [
    "Q.2. Create a Numpy array between values 10-90 and set the shape to be 3*3\n",
    "\n",
    "a. Extract only the 3rd column from the Numpy array.\n",
    "\n",
    "b. Extract only the 2nd row from the Numpy array\n",
    "\n",
    "c. Extract those cells at the intersection of first two rows and first two columns."
   ]
  },
  {
   "cell_type": "code",
   "execution_count": 7,
   "id": "6e632e74",
   "metadata": {},
   "outputs": [
    {
     "name": "stdout",
     "output_type": "stream",
     "text": [
      "The 3x3 Array:\n",
      "[[10 20 30]\n",
      " [40 50 60]\n",
      " [70 80 90]]\n"
     ]
    }
   ],
   "source": [
    "array3 = np.arange(10, 91, 10).reshape(3, 3)\n",
    "\n",
    "print(\"The 3x3 Array:\")\n",
    "print(array3)\n"
   ]
  },
  {
   "cell_type": "code",
   "execution_count": 8,
   "id": "665648e3",
   "metadata": {
    "scrolled": true
   },
   "outputs": [
    {
     "name": "stdout",
     "output_type": "stream",
     "text": [
      "\n",
      "Extracted 3rd Column:\n",
      "[30 60 90]\n",
      "\n",
      "Extracted 2nd Row:\n",
      "[40 50 60]\n",
      "\n",
      "Extracted Cells at Intersection of First Two Rows and First Two Columns:\n",
      "[[10 20]\n",
      " [40 50]]\n"
     ]
    }
   ],
   "source": [
    "# a. Extract only the 3rd column\n",
    "third_column = array3[:, 2]\n",
    "print(\"\\nExtracted 3rd Column:\")\n",
    "print(third_column)\n",
    "\n",
    "# b. Extract only the 2nd row\n",
    "second_row = array3[1, :]\n",
    "print(\"\\nExtracted 2nd Row:\")\n",
    "print(second_row)\n",
    "\n",
    "# c. Extract cells at the intersection of first two rows and first two columns\n",
    "intersection_cells = array3[:2, :2]\n",
    "print(\"\\nExtracted Cells at Intersection of First Two Rows and First Two Columns:\")\n",
    "print(intersection_cells)"
   ]
  },
  {
   "cell_type": "code",
   "execution_count": null,
   "id": "086b2969",
   "metadata": {},
   "outputs": [],
   "source": []
  },
  {
   "cell_type": "markdown",
   "id": "16b87219",
   "metadata": {},
   "source": [
    "Q.3. Create a dictionary with 4 items and convert it into panda’s series. Create Dictionary of  Pandas series Convert above dictionary into data frame Slice last 2 rows from the data frame Slice a column from the data frame Create dictionary of tuples. Convert it into dataframe"
   ]
  },
  {
   "cell_type": "code",
   "execution_count": 1,
   "id": "2d3a051a",
   "metadata": {},
   "outputs": [
    {
     "name": "stdout",
     "output_type": "stream",
     "text": [
      "Pandas Series:\n",
      "Name          Shweta\n",
      "Surname      Kanungo\n",
      "City        New York\n",
      "Work       Professor\n",
      "dtype: object\n",
      "\n",
      "DataFrame:\n",
      "      Name  Surname      City        Work\n",
      "0  Sarvesh  Kanungo  New York    Advocate\n",
      "1   Shweta        K    London   Professor\n",
      "2    Rajat   Khanna     Paris  Consultant\n",
      "\n",
      "Last 2 Rows:\n",
      "     Name Surname    City        Work\n",
      "1  Shweta       K  London   Professor\n",
      "2   Rajat  Khanna   Paris  Consultant\n",
      "\n",
      "Selected Column ('Name'):\n",
      "0    Sarvesh\n",
      "1     Shweta\n",
      "2      Rajat\n",
      "Name: Name, dtype: object\n",
      "\n",
      "DataFrame from Dictionary of Tuples:\n",
      "      Name  Surname      City        Work\n",
      "0  Sarvesh  Kanungo  New York    Advocate\n",
      "1   Shweta        K    London   Professor\n",
      "2    Rajat   Khanna     Paris  Consultant\n"
     ]
    }
   ],
   "source": [
    "import pandas as pd\n",
    "\n",
    "panda_dict = {'Name': 'Shweta', 'Surname' : 'Kanungo','City': 'New York', 'Work': 'Professor'}\n",
    "\n",
    "# Converting into Pandas Series\n",
    "series_data = pd.Series(panda_dict)\n",
    "print(\"Pandas Series:\")\n",
    "print(series_data)\n",
    "\n",
    "# Create a dictionary of Pandas Series\n",
    "data_dict_series = {'Name': pd.Series(['Sarvesh', 'Shweta', 'Rajat']),\n",
    "                    'Surname': pd.Series(['Kanungo','K', 'Khanna' ]),\n",
    "                    'City': pd.Series(['New York', 'London', 'Paris']),\n",
    "                    'Work': pd.Series(['Advocate', 'Professor', 'Consultant'])}\n",
    "\n",
    "# Convert the dictionary of Pandas Series into a DataFrame\n",
    "df = pd.DataFrame(data_dict_series)\n",
    "print(\"\\nDataFrame:\")\n",
    "print(df)\n",
    "\n",
    "# Slice last 2 rows from the data frame\n",
    "last_two_rows = df.tail(2)\n",
    "print(\"\\nLast 2 Rows:\")\n",
    "print(last_two_rows)\n",
    "\n",
    "# Slice a column from the data frame\n",
    "selected_column = df['Name']\n",
    "print(\"\\nSelected Column ('Name'):\")\n",
    "print(selected_column)\n",
    "\n",
    "# Create a dictionary of tuples\n",
    "data_dict_tuples = {'Name': ('Sarvesh', 'Shweta', 'Rajat'),\n",
    "                    'Surname': ('Kanungo','K', 'Khanna'),\n",
    "                    'City': ('New York', 'London', 'Paris'),\n",
    "                    'Work': ('Advocate', 'Professor', 'Consultant')}\n",
    "\n",
    "# Convert the dictionary of tuples into a DataFrame\n",
    "df_tuples = pd.DataFrame(data_dict_tuples)\n",
    "print(\"\\nDataFrame from Dictionary of Tuples:\")\n",
    "print(df_tuples)\n"
   ]
  },
  {
   "cell_type": "code",
   "execution_count": null,
   "id": "873d51ea",
   "metadata": {},
   "outputs": [],
   "source": []
  },
  {
   "cell_type": "markdown",
   "id": "fad5068f",
   "metadata": {},
   "source": [
    "Q.4. Explain the use of NumPy library along with\n",
    "the Data structures in NumPy."
   ]
  },
  {
   "cell_type": "markdown",
   "id": "981f965e",
   "metadata": {},
   "source": [
    "Ans. NumPy is the fundamental package for scientific computing in Python.\n",
    "It is a Python library that provides a multidimensional array object, various derived objects\n",
    "(such as masked arrays and matrices), and an assortment of routines for fast operations on\n",
    "arrays, including mathematical, logical, shape manipulation, sorting, selecting, I/O, discrete\n",
    "Fourier transforms, basic linear algebra, basic statistical operations, random simulation and\n",
    "much more.\n",
    "\n",
    "The main data structure in NumPy is the ndarray:"
   ]
  },
  {
   "cell_type": "code",
   "execution_count": 2,
   "id": "c90813c6",
   "metadata": {},
   "outputs": [
    {
     "data": {
      "text/plain": [
       "array([  2,   4,  56, 422,  32,   1])"
      ]
     },
     "execution_count": 2,
     "metadata": {},
     "output_type": "execute_result"
    }
   ],
   "source": [
    "#Creating Numpy array\n",
    "import numpy as np\n",
    "np.array([2,4,56,422,32,1]) # 1D array\n"
   ]
  },
  {
   "cell_type": "code",
   "execution_count": 3,
   "id": "3e205ace",
   "metadata": {},
   "outputs": [
    {
     "name": "stdout",
     "output_type": "stream",
     "text": [
      "[  2   4  56 422  32   1]\n"
     ]
    },
    {
     "data": {
      "text/plain": [
       "numpy.ndarray"
      ]
     },
     "execution_count": 3,
     "metadata": {},
     "output_type": "execute_result"
    }
   ],
   "source": [
    "a = np.array([2,4,56,422,32,1]) #Vector\n",
    "print(a)\n",
    "type(a)"
   ]
  },
  {
   "cell_type": "code",
   "execution_count": 5,
   "id": "4dafe15a",
   "metadata": {},
   "outputs": [
    {
     "name": "stdout",
     "output_type": "stream",
     "text": [
      "[[45 34 22  2]\n",
      " [24 55  3 22]]\n"
     ]
    }
   ],
   "source": [
    "# 2D Array ( Matrix)\n",
    "new = np.array([[45,34,22,2],[24,55,3,22]])\n",
    "print(new)\n"
   ]
  },
  {
   "cell_type": "code",
   "execution_count": 6,
   "id": "d9ee11b3",
   "metadata": {},
   "outputs": [
    {
     "data": {
      "text/plain": [
       "array([[  2,   3,  33,   4,  45],\n",
       "       [ 23,  45,  56,  66,   2],\n",
       "       [357, 523,  32,  24,   2],\n",
       "       [ 32,  32,  44,  33, 234]])"
      ]
     },
     "execution_count": 6,
     "metadata": {},
     "output_type": "execute_result"
    }
   ],
   "source": [
    "# 3 D ---- # Tensor\n",
    "np.array ([[2,3,33,4,45],[23,45,56,66,2],[357,523,32,24,2],[32,32,44,33,234]])"
   ]
  },
  {
   "cell_type": "markdown",
   "id": "776026ff",
   "metadata": {},
   "source": [
    "array from ones & Zeros:"
   ]
  },
  {
   "cell_type": "code",
   "execution_count": 9,
   "id": "75cf59a3",
   "metadata": {},
   "outputs": [
    {
     "data": {
      "text/plain": [
       "array([[0., 0., 0., 0.],\n",
       "       [0., 0., 0., 0.],\n",
       "       [0., 0., 0., 0.]])"
      ]
     },
     "execution_count": 9,
     "metadata": {},
     "output_type": "execute_result"
    }
   ],
   "source": [
    "np.zeros((3,4))\n"
   ]
  },
  {
   "cell_type": "code",
   "execution_count": 10,
   "id": "e3745fe1",
   "metadata": {},
   "outputs": [
    {
     "data": {
      "text/plain": [
       "array([[1., 1., 1., 1.],\n",
       "       [1., 1., 1., 1.],\n",
       "       [1., 1., 1., 1.]])"
      ]
     },
     "execution_count": 10,
     "metadata": {},
     "output_type": "execute_result"
    }
   ],
   "source": [
    "np.ones((3,4))"
   ]
  },
  {
   "cell_type": "code",
   "execution_count": 11,
   "id": "130424eb",
   "metadata": {},
   "outputs": [
    {
     "data": {
      "text/plain": [
       "array([[0.9238881 , 0.16531503, 0.35594236],\n",
       "       [0.02849104, 0.2004666 , 0.83938135],\n",
       "       [0.99752983, 0.12692091, 0.99079452],\n",
       "       [0.53034152, 0.2906837 , 0.43008672]])"
      ]
     },
     "execution_count": 11,
     "metadata": {},
     "output_type": "execute_result"
    }
   ],
   "source": [
    "# Another Type ---> random()\n",
    "np.random.random((4,3))\n"
   ]
  },
  {
   "cell_type": "markdown",
   "id": "5a290eb9",
   "metadata": {},
   "source": [
    "Indexing and Slicing:"
   ]
  },
  {
   "cell_type": "code",
   "execution_count": 13,
   "id": "6d2ccd58",
   "metadata": {},
   "outputs": [
    {
     "name": "stdout",
     "output_type": "stream",
     "text": [
      "1D Array: [0 1 2 3 4 5]\n",
      "First Element: 0\n",
      "Third Element: 2\n",
      "\n",
      "2D Array:\n",
      "[[0 1 2]\n",
      " [3 4 5]\n",
      " [6 7 8]]\n",
      "Element at (1, 2): 5\n",
      "\n",
      "Sliced 1D Array: [2 3 4]\n",
      "Sliced 2D Array:\n",
      "[[1 2]\n",
      " [4 5]]\n"
     ]
    }
   ],
   "source": [
    "arr_1d = np.array([0, 1, 2, 3, 4, 5])\n",
    "\n",
    "# Indexing: Accessing a single element\n",
    "first_element = arr_1d[0]\n",
    "third_element = arr_1d[2]\n",
    "\n",
    "print(\"1D Array:\", arr_1d)\n",
    "print(\"First Element:\", first_element)\n",
    "print(\"Third Element:\", third_element)\n",
    "\n",
    "# Creating a 2D array\n",
    "arr_2d = np.array([[0, 1, 2], [3, 4, 5], [6, 7, 8]])\n",
    "\n",
    "# Indexing: Accessing a single element in a 2D array\n",
    "element_2d = arr_2d[1, 2]\n",
    "\n",
    "print(\"\\n2D Array:\")\n",
    "print(arr_2d)\n",
    "print(\"Element at (1, 2):\", element_2d)\n",
    "\n",
    "# Slicing: Extracting subarrays\n",
    "slice_1d = arr_1d[2:5]  # Elements from index 2 to 4\n",
    "slice_2d = arr_2d[0:2, 1:3]  # Rows 0 to 1, Columns 1 to 2\n",
    "\n",
    "print(\"\\nSliced 1D Array:\", slice_1d)\n",
    "print(\"Sliced 2D Array:\")\n",
    "print(slice_2d)\n"
   ]
  },
  {
   "cell_type": "markdown",
   "id": "14e83217",
   "metadata": {},
   "source": [
    "scalar operations:\n",
    "Scalar operations on Numpy arrays include performing addition or subtraction, or multiplication\n",
    "on each element of a Numpy array.\n"
   ]
  },
  {
   "cell_type": "code",
   "execution_count": 16,
   "id": "dd461473",
   "metadata": {},
   "outputs": [
    {
     "data": {
      "text/plain": [
       "array([[44, 33, 21,  1],\n",
       "       [23, 54,  2, 21]])"
      ]
     },
     "execution_count": 16,
     "metadata": {},
     "output_type": "execute_result"
    }
   ],
   "source": [
    "new = np.array([[45,34,22,2],[24,55,3,22]])\n",
    "new+1\n"
   ]
  },
  {
   "cell_type": "markdown",
   "id": "b1c6a644",
   "metadata": {},
   "source": [
    "relational Operators\n",
    "The relational operators are also known as comparison operators, their main function is to\n",
    "return either a true or false based on the value of operands."
   ]
  },
  {
   "cell_type": "code",
   "execution_count": 17,
   "id": "b68752cf",
   "metadata": {},
   "outputs": [
    {
     "data": {
      "text/plain": [
       "array([[ True,  True,  True, False],\n",
       "       [ True,  True, False,  True]])"
      ]
     },
     "execution_count": 17,
     "metadata": {},
     "output_type": "execute_result"
    }
   ],
   "source": [
    "new > 20"
   ]
  },
  {
   "cell_type": "markdown",
   "id": "15bd7e05",
   "metadata": {},
   "source": [
    "Beside above Numpy provides so many operations and  functions.In summary, NumPy is a fundamental library for numerical computing in Python, offering powerful data structures and operations that are essential for various scientific and engineering applications. Its efficient array operations and mathematical functions make it a go-to choice for tasks involving numerical data."
   ]
  },
  {
   "cell_type": "code",
   "execution_count": null,
   "id": "729a689f",
   "metadata": {},
   "outputs": [],
   "source": []
  },
  {
   "cell_type": "markdown",
   "id": "589039dd",
   "metadata": {},
   "source": [
    "Q.5. Explain the use of Pandas library along with the Data structures in Pandas."
   ]
  },
  {
   "cell_type": "markdown",
   "id": "767eb6c5",
   "metadata": {},
   "source": [
    "Pandas is a fast, powerful, flexible and easy to use open source data analysis and manipulation tool, built on top of the Python programming language.\n",
    "Main Features:\n",
    "1. Data Wrangling\n",
    "2. Modeling\n",
    "3. Visualization\n",
    "4. High Performance Computing\n",
    "5. Text Processing\n",
    "6. Statistical Computing\n",
    "7. Numerical Computing\n",
    "\n",
    "The two primary data structures in Pandas are the Series and DataFrame.\n",
    "\n",
    "Series:\n",
    "\n",
    "A Series is a one-dimensional labeled array capable of holding any data type.\n",
    "It can be created from a list, NumPy array, or dictionary.\n",
    "Each element in a Series has a label (index) associated with it, making it easy to access and manipulate data.\n",
    "\n",
    "DataFrame:\n",
    "\n",
    "A DataFrame is a two-dimensional labeled data structure with columns that can be of different data types.\n",
    "It can be thought of as an in-memory 2D table (like a spreadsheet or SQL table) with labeled axes (rows and columns).\n",
    "DataFrames can be created from lists, dictionaries, NumPy arrays, and other DataFrame objects."
   ]
  },
  {
   "cell_type": "code",
   "execution_count": 2,
   "id": "52dc40cc",
   "metadata": {},
   "outputs": [
    {
     "data": {
      "text/plain": [
       "a    1\n",
       "b    2\n",
       "c    3\n",
       "d    4\n",
       "dtype: int64"
      ]
     },
     "execution_count": 2,
     "metadata": {},
     "output_type": "execute_result"
    }
   ],
   "source": [
    "#Series:\n",
    "import pandas as pd\n",
    "\n",
    "# Creating a Pandas Series\n",
    "series = pd.Series([1, 2, 3, 4], index=['a', 'b', 'c', 'd'])\n",
    "series"
   ]
  },
  {
   "cell_type": "code",
   "execution_count": 3,
   "id": "30d6a04b",
   "metadata": {},
   "outputs": [
    {
     "data": {
      "text/plain": [
       "{'a': 0    17\n",
       " 1    18\n",
       " 2    12\n",
       " 3    19\n",
       " 4    19\n",
       " dtype: int32,\n",
       " 'b': 0    6\n",
       " 1    7\n",
       " 2    7\n",
       " 3    6\n",
       " 4    7\n",
       " dtype: int32,\n",
       " 'c': 0    5\n",
       " 1    5\n",
       " 2    5\n",
       " dtype: int64}"
      ]
     },
     "execution_count": 3,
     "metadata": {},
     "output_type": "execute_result"
    }
   ],
   "source": [
    "#DataFrame:\n",
    "import numpy as np\n",
    "data={'a':pd.Series(np.random.randint(10,20,5)),\n",
    "      'b':pd.Series(np.random.randint(5,8,5)),\n",
    "      'c':pd.Series(5,index=[0,1,2])}\n",
    "data"
   ]
  },
  {
   "cell_type": "code",
   "execution_count": 4,
   "id": "7f0f4593",
   "metadata": {},
   "outputs": [
    {
     "data": {
      "text/html": [
       "<div>\n",
       "<style scoped>\n",
       "    .dataframe tbody tr th:only-of-type {\n",
       "        vertical-align: middle;\n",
       "    }\n",
       "\n",
       "    .dataframe tbody tr th {\n",
       "        vertical-align: top;\n",
       "    }\n",
       "\n",
       "    .dataframe thead th {\n",
       "        text-align: right;\n",
       "    }\n",
       "</style>\n",
       "<table border=\"1\" class=\"dataframe\">\n",
       "  <thead>\n",
       "    <tr style=\"text-align: right;\">\n",
       "      <th></th>\n",
       "      <th>a</th>\n",
       "      <th>b</th>\n",
       "      <th>c</th>\n",
       "    </tr>\n",
       "  </thead>\n",
       "  <tbody>\n",
       "    <tr>\n",
       "      <th>0</th>\n",
       "      <td>17</td>\n",
       "      <td>6</td>\n",
       "      <td>5.0</td>\n",
       "    </tr>\n",
       "    <tr>\n",
       "      <th>1</th>\n",
       "      <td>18</td>\n",
       "      <td>7</td>\n",
       "      <td>5.0</td>\n",
       "    </tr>\n",
       "    <tr>\n",
       "      <th>2</th>\n",
       "      <td>12</td>\n",
       "      <td>7</td>\n",
       "      <td>5.0</td>\n",
       "    </tr>\n",
       "    <tr>\n",
       "      <th>3</th>\n",
       "      <td>19</td>\n",
       "      <td>6</td>\n",
       "      <td>NaN</td>\n",
       "    </tr>\n",
       "    <tr>\n",
       "      <th>4</th>\n",
       "      <td>19</td>\n",
       "      <td>7</td>\n",
       "      <td>NaN</td>\n",
       "    </tr>\n",
       "  </tbody>\n",
       "</table>\n",
       "</div>"
      ],
      "text/plain": [
       "    a  b    c\n",
       "0  17  6  5.0\n",
       "1  18  7  5.0\n",
       "2  12  7  5.0\n",
       "3  19  6  NaN\n",
       "4  19  7  NaN"
      ]
     },
     "execution_count": 4,
     "metadata": {},
     "output_type": "execute_result"
    }
   ],
   "source": [
    "# Converting Dictionary of Pandas Series to DataFarme\n",
    "df=pd.DataFrame(data)\n",
    "df"
   ]
  },
  {
   "cell_type": "markdown",
   "id": "6b0a8594",
   "metadata": {},
   "source": [
    "DataFrames can be created from various data sources, such as NumPy arrays, dictionaries, CSV files, SQL databases, and more."
   ]
  },
  {
   "cell_type": "markdown",
   "id": "cfbed6be",
   "metadata": {},
   "source": [
    "Data Manipulation:\n",
    "\n",
    "Pandas provides powerful tools for data manipulation, including filtering, sorting, grouping, and merging. These operations enable users to clean and preprocess data efficiently."
   ]
  },
  {
   "cell_type": "code",
   "execution_count": null,
   "id": "a78b634d",
   "metadata": {},
   "outputs": [],
   "source": [
    "# Filtering and selecting data\n",
    "df_filtered = df[df['A'] > 0]\n",
    "\n",
    "# Grouping data\n",
    "grouped_data = df.groupby('E').sum()\n"
   ]
  },
  {
   "cell_type": "markdown",
   "id": "5b9c86a0",
   "metadata": {},
   "source": [
    "Missing Data Handling:\n",
    "\n",
    "Pandas handles missing data gracefully, providing methods for filling, dropping, or interpolating missing values."
   ]
  },
  {
   "cell_type": "code",
   "execution_count": 11,
   "id": "434c70d5",
   "metadata": {},
   "outputs": [],
   "source": [
    "# Handling missing data\n",
    "df_filled = df.fillna(0)\n"
   ]
  },
  {
   "cell_type": "markdown",
   "id": "a50edd18",
   "metadata": {},
   "source": [
    "Time Series Analysis:\n",
    "\n",
    "Pandas is widely used for time series analysis due to its support for date and time data. It provides functionalities for resampling, time zone handling, and date range generation."
   ]
  },
  {
   "cell_type": "code",
   "execution_count": 12,
   "id": "d44f8a02",
   "metadata": {},
   "outputs": [],
   "source": [
    "# Time series analysis\n",
    "date_rng = pd.date_range('2022-01-01', periods=6, freq='D')\n",
    "df_time_series = pd.DataFrame(date_rng, columns=['date'])\n"
   ]
  },
  {
   "cell_type": "markdown",
   "id": "1f5e1db2",
   "metadata": {},
   "source": [
    "Input/Output:\n",
    "\n",
    "Pandas supports reading and writing data in various formats, including CSV, Excel, SQL databases, and more. This makes it easy to integrate with other data storage and processing tools."
   ]
  },
  {
   "cell_type": "code",
   "execution_count": null,
   "id": "d9897dfb",
   "metadata": {},
   "outputs": [],
   "source": [
    "# Reading and writing data\n",
    "df.to_csv('output.csv', index=False)\n",
    "df_read = pd.read_csv('input.csv')\n"
   ]
  },
  {
   "cell_type": "code",
   "execution_count": null,
   "id": "ffb95063",
   "metadata": {},
   "outputs": [],
   "source": [
    "### Statistical Operations on Pandas Dataframe"
   ]
  },
  {
   "cell_type": "code",
   "execution_count": 16,
   "id": "e0835fda",
   "metadata": {},
   "outputs": [
    {
     "data": {
      "text/html": [
       "<div>\n",
       "<style scoped>\n",
       "    .dataframe tbody tr th:only-of-type {\n",
       "        vertical-align: middle;\n",
       "    }\n",
       "\n",
       "    .dataframe tbody tr th {\n",
       "        vertical-align: top;\n",
       "    }\n",
       "\n",
       "    .dataframe thead th {\n",
       "        text-align: right;\n",
       "    }\n",
       "</style>\n",
       "<table border=\"1\" class=\"dataframe\">\n",
       "  <thead>\n",
       "    <tr style=\"text-align: right;\">\n",
       "      <th></th>\n",
       "      <th>a</th>\n",
       "      <th>b</th>\n",
       "      <th>c</th>\n",
       "      <th>d</th>\n",
       "      <th>e</th>\n",
       "    </tr>\n",
       "  </thead>\n",
       "  <tbody>\n",
       "    <tr>\n",
       "      <th>10</th>\n",
       "      <td>1</td>\n",
       "      <td>4</td>\n",
       "      <td>7</td>\n",
       "      <td>1</td>\n",
       "      <td>8</td>\n",
       "    </tr>\n",
       "    <tr>\n",
       "      <th>2</th>\n",
       "      <td>2</td>\n",
       "      <td>5</td>\n",
       "      <td>8</td>\n",
       "      <td>7</td>\n",
       "      <td>9</td>\n",
       "    </tr>\n",
       "    <tr>\n",
       "      <th>3</th>\n",
       "      <td>3</td>\n",
       "      <td>6</td>\n",
       "      <td>9</td>\n",
       "      <td>9</td>\n",
       "      <td>9</td>\n",
       "    </tr>\n",
       "    <tr>\n",
       "      <th>4</th>\n",
       "      <td>7</td>\n",
       "      <td>8</td>\n",
       "      <td>9</td>\n",
       "      <td>0</td>\n",
       "      <td>1</td>\n",
       "    </tr>\n",
       "  </tbody>\n",
       "</table>\n",
       "</div>"
      ],
      "text/plain": [
       "    a  b  c  d  e\n",
       "10  1  4  7  1  8\n",
       "2   2  5  8  7  9\n",
       "3   3  6  9  9  9\n",
       "4   7  8  9  0  1"
      ]
     },
     "execution_count": 16,
     "metadata": {},
     "output_type": "execute_result"
    }
   ],
   "source": [
    "df1 = pd.DataFrame(\n",
    "{\"a\" : [1 ,2, 3,7],\n",
    "\"b\" : [4, 5, 6,8],\n",
    "\"c\" : [7, 8, 9,9],\n",
    "\"d\" : [1, 7, 9,0],\n",
    "\"e\" : [8, 9, 9,1]\n",
    "},\n",
    "index = [10, 2, 3,4])\n",
    "df1"
   ]
  },
  {
   "cell_type": "code",
   "execution_count": 17,
   "id": "ab89f37e",
   "metadata": {},
   "outputs": [
    {
     "data": {
      "text/plain": [
       "a    3.25\n",
       "b    5.75\n",
       "c    8.25\n",
       "d    4.25\n",
       "e    6.75\n",
       "dtype: float64"
      ]
     },
     "execution_count": 17,
     "metadata": {},
     "output_type": "execute_result"
    }
   ],
   "source": [
    "# Find Mean\n",
    "df1.mean()"
   ]
  },
  {
   "cell_type": "markdown",
   "id": "bb3cc61f",
   "metadata": {},
   "source": [
    "Plotting:"
   ]
  },
  {
   "cell_type": "code",
   "execution_count": null,
   "id": "0e6579c8",
   "metadata": {},
   "outputs": [],
   "source": [
    "# Plotting\n",
    "df.plot(x='A', y='C', kind='scatter')\n"
   ]
  },
  {
   "cell_type": "code",
   "execution_count": null,
   "id": "0f12641c",
   "metadata": {},
   "outputs": [],
   "source": []
  },
  {
   "cell_type": "markdown",
   "id": "92933960",
   "metadata": {},
   "source": [
    "### Submitted By:"
   ]
  },
  {
   "cell_type": "markdown",
   "id": "c41882c6",
   "metadata": {},
   "source": [
    "# Shweta Kanungo"
   ]
  }
 ],
 "metadata": {
  "kernelspec": {
   "display_name": "Python 3 (ipykernel)",
   "language": "python",
   "name": "python3"
  },
  "language_info": {
   "codemirror_mode": {
    "name": "ipython",
    "version": 3
   },
   "file_extension": ".py",
   "mimetype": "text/x-python",
   "name": "python",
   "nbconvert_exporter": "python",
   "pygments_lexer": "ipython3",
   "version": "3.11.4"
  }
 },
 "nbformat": 4,
 "nbformat_minor": 5
}
